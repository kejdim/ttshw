{
  "nbformat": 4,
  "nbformat_minor": 0,
  "metadata": {
    "colab": {
      "provenance": [],
      "authorship_tag": "ABX9TyMvKBg6SzvFbs5k2HR/K3Je",
      "include_colab_link": true
    },
    "kernelspec": {
      "name": "python3",
      "display_name": "Python 3"
    },
    "language_info": {
      "name": "python"
    }
  },
  "cells": [
    {
      "cell_type": "markdown",
      "metadata": {
        "id": "view-in-github",
        "colab_type": "text"
      },
      "source": [
        "<a href=\"https://colab.research.google.com/github/kejdim/ttshw/blob/main/practice.ipynb\" target=\"_parent\"><img src=\"https://colab.research.google.com/assets/colab-badge.svg\" alt=\"Open In Colab\"/></a>"
      ]
    },
    {
      "cell_type": "code",
      "execution_count": null,
      "metadata": {
        "colab": {
          "base_uri": "https://localhost:8080/"
        },
        "id": "xOvdxwlpxxrF",
        "outputId": "a9662149-9fb4-428c-b57b-de425a958b6e"
      },
      "outputs": [
        {
          "output_type": "stream",
          "name": "stdout",
          "text": [
            "hello world\n"
          ]
        }
      ],
      "source": [
        "print (\"hello world\")"
      ]
    },
    {
      "cell_type": "code",
      "source": [
        "x = input ('what is your name:') \n",
        "y = 'I am from '\n",
        "print (y +x)"
      ],
      "metadata": {
        "colab": {
          "base_uri": "https://localhost:8080/"
        },
        "id": "kZgKIOKsyKKL",
        "outputId": "3076627f-69da-4a0b-fc98-0a112428a73e"
      },
      "execution_count": null,
      "outputs": [
        {
          "output_type": "stream",
          "name": "stdout",
          "text": [
            "what is your name:luzi\n",
            "I am from luzi\n"
          ]
        }
      ]
    },
    {
      "cell_type": "code",
      "source": [
        "for x in range(5):\n",
        "    print (x)"
      ],
      "metadata": {
        "colab": {
          "base_uri": "https://localhost:8080/"
        },
        "id": "HVe2PFBL0rRm",
        "outputId": "d06b0a78-93e9-4fba-fd63-15c52162ddbe"
      },
      "execution_count": null,
      "outputs": [
        {
          "output_type": "stream",
          "name": "stdout",
          "text": [
            "0\n",
            "1\n",
            "2\n",
            "3\n",
            "4\n"
          ]
        }
      ]
    },
    {
      "cell_type": "code",
      "source": [
        "count =0\n",
        "while count < 5:\n",
        "    print (count) \n",
        "    count += 1"
      ],
      "metadata": {
        "id": "4_Cew5jb1Qhl",
        "colab": {
          "base_uri": "https://localhost:8080/"
        },
        "outputId": "9ee4976f-5468-4c51-e37c-73254d0478db"
      },
      "execution_count": null,
      "outputs": [
        {
          "output_type": "stream",
          "name": "stdout",
          "text": [
            "0\n",
            "1\n",
            "2\n",
            "3\n",
            "4\n"
          ]
        }
      ]
    },
    {
      "cell_type": "code",
      "source": [
        "name = \"vash\"\n",
        "print (\"hello, %s!\" % name)"
      ],
      "metadata": {
        "colab": {
          "base_uri": "https://localhost:8080/"
        },
        "id": "tJCkwCIZF2WP",
        "outputId": "bdbf63b7-110e-41d9-c226-6b1d2c34d9e8"
      },
      "execution_count": null,
      "outputs": [
        {
          "output_type": "stream",
          "name": "stdout",
          "text": [
            "hello, vash!\n"
          ]
        }
      ]
    },
    {
      "cell_type": "code",
      "source": [
        "data = (\"vash\", \"the stampede\", 8000000)\n",
        "f_string = \"yo %s %s. your current bounty is $%s!\" \n",
        "\n",
        "print (f_string % data)"
      ],
      "metadata": {
        "colab": {
          "base_uri": "https://localhost:8080/"
        },
        "id": "g_QiD6gvHvMb",
        "outputId": "e83248de-cfbe-4003-f5f3-1dbf61b01fab"
      },
      "execution_count": null,
      "outputs": [
        {
          "output_type": "stream",
          "name": "stdout",
          "text": [
            "yo vash the stampede. your current bounty is $8000000!\n"
          ]
        }
      ]
    },
    {
      "cell_type": "code",
      "source": [
        "astring = \"hello world!\"\n",
        "afewwords = astring.split(\" \")"
      ],
      "metadata": {
        "id": "J0pV5Y1IQ3u1"
      },
      "execution_count": null,
      "outputs": []
    },
    {
      "cell_type": "code",
      "source": [
        "x=2\n",
        "print(x==2)\n",
        "print(x==3)\n",
        "print(x<3)"
      ],
      "metadata": {
        "colab": {
          "base_uri": "https://localhost:8080/"
        },
        "id": "lG4JIrmJR8uw",
        "outputId": "83cc252f-a3ef-4a83-e1dc-1cfa1ea78c8d"
      },
      "execution_count": null,
      "outputs": [
        {
          "output_type": "stream",
          "name": "stdout",
          "text": [
            "True\n",
            "False\n",
            "True\n"
          ]
        }
      ]
    },
    {
      "cell_type": "code",
      "source": [
        "statmt = False\n",
        "another_statmt = True\n",
        "if statmt is True:\n",
        "   pass\n",
        "elif another_statmt is True:\n",
        "    pass\n",
        "else:\n",
        "    pass"
      ],
      "metadata": {
        "id": "0jFa7KA6TpZd"
      },
      "execution_count": null,
      "outputs": []
    },
    {
      "cell_type": "code",
      "source": [
        "\n",
        "num = 3\n",
        "if num >= 0:\n",
        "    print (\"pos or zero\") \n",
        "else:\n",
        "    print(\"neg numb\")"
      ],
      "metadata": {
        "colab": {
          "base_uri": "https://localhost:8080/"
        },
        "id": "tEOsLgi8aA1S",
        "outputId": "e3258d7d-f1af-47c4-c36f-9d793a73a7ee"
      },
      "execution_count": null,
      "outputs": [
        {
          "output_type": "stream",
          "name": "stdout",
          "text": [
            "pos or zero\n"
          ]
        }
      ]
    },
    {
      "cell_type": "code",
      "source": [
        "num = -5\n",
        "if num >= 0:\n",
        "    print (\"pos or zero\")\n",
        "else:\n",
        "    print(\"neg numb\")"
      ],
      "metadata": {
        "colab": {
          "base_uri": "https://localhost:8080/"
        },
        "id": "UYscKELwbrrB",
        "outputId": "92d6864e-7f3c-4397-ea7e-efafe0624052"
      },
      "execution_count": null,
      "outputs": [
        {
          "output_type": "stream",
          "name": "stdout",
          "text": [
            "neg numb\n"
          ]
        }
      ]
    },
    {
      "cell_type": "code",
      "source": [
        "num = -6\n",
        "\n",
        "if num > 0:\n",
        "    print(\"Positive number\")\n",
        "elif num == 0:\n",
        "    print(\"Zero\")\n",
        "else:\n",
        "    print(\"Negative number\")"
      ],
      "metadata": {
        "colab": {
          "base_uri": "https://localhost:8080/"
        },
        "id": "y_7HZmzvdJBu",
        "outputId": "f627e8cb-aa2f-4d1b-d51f-a0268a0eb2d3"
      },
      "execution_count": null,
      "outputs": [
        {
          "output_type": "stream",
          "name": "stdout",
          "text": [
            "Negative number\n"
          ]
        }
      ]
    }
  ]
}