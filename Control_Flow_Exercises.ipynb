{
  "nbformat": 4,
  "nbformat_minor": 0,
  "metadata": {
    "colab": {
      "provenance": [],
      "authorship_tag": "ABX9TyPeBT60VDIkCA2BtRSxUxNG",
      "include_colab_link": true
    },
    "kernelspec": {
      "name": "python3",
      "display_name": "Python 3"
    },
    "language_info": {
      "name": "python"
    }
  },
  "cells": [
    {
      "cell_type": "markdown",
      "metadata": {
        "id": "view-in-github",
        "colab_type": "text"
      },
      "source": [
        "<a href=\"https://colab.research.google.com/github/kejdim/ttshw/blob/main/Control_Flow_Exercises.ipynb\" target=\"_parent\"><img src=\"https://colab.research.google.com/assets/colab-badge.svg\" alt=\"Open In Colab\"/></a>"
      ]
    },
    {
      "cell_type": "markdown",
      "source": [
        "Exercise 1\n",
        "\n",
        "Guess a number between 1 to 9 given by the user. Hint. Random"
      ],
      "metadata": {
        "id": "hA42ItIcIFAW"
      }
    },
    {
      "cell_type": "code",
      "execution_count": null,
      "metadata": {
        "colab": {
          "base_uri": "https://localhost:8080/"
        },
        "id": "xSITur7iFw98",
        "outputId": "6c2537c2-5e9c-43c0-904d-8559cb687e9a"
      },
      "outputs": [
        {
          "output_type": "stream",
          "name": "stdout",
          "text": [
            "Guess a number between 1 and 10 until you get it right : 9\n",
            "Guess a number between 1 and 10 until you get it right : 7\n",
            "You guessed correct!\n"
          ]
        }
      ],
      "source": [
        "import random\n",
        "target_num, guess_num = random.randint(1, 10), 0\n",
        "while target_num != guess_num:\n",
        "    guess_num = int(input('Guess a number between 1 and 10 until you get it right : '))\n",
        "print('You guessed correct!')"
      ]
    },
    {
      "cell_type": "markdown",
      "source": [
        "\n",
        "\n",
        "\n",
        "Exercise 2\n",
        "\n",
        "Check the validity of password input by the user. Hint. Re which does matching operations much like Perl.\n",
        "\n",
        "Validation:\n",
        "\n",
        "\n",
        "*   At least 1 letter between [a-z] and 1 letter between [A-Z]List item\n",
        "*   At least 1 number between [0-9].\n",
        "*   At least 1 character from [$#@].\n",
        "*   Minimum length 6 characters\n",
        "*  Maximum length 16 characters\n",
        "\n",
        "\n",
        "\n",
        "\n",
        "\n",
        "\n",
        "\n",
        "\n",
        "\n",
        "\n",
        "\n",
        "\n",
        "\n"
      ],
      "metadata": {
        "id": "nYImXyGdI6eX"
      }
    },
    {
      "cell_type": "code",
      "source": [
        "import re\n",
        "p= input(\"Input your password \")\n",
        "x = True\n",
        "while x:  \n",
        "    if (len(p)<6 or len(p)>16):\n",
        "        break\n",
        "    elif not re.search(\"[a-z]\",p):\n",
        "        break\n",
        "    elif not re.search(\"[0-9]\",p):\n",
        "        break\n",
        "    elif not re.search(\"[A-Z]\",p):\n",
        "        break\n",
        "    elif not re.search(\"[$#@]\",p):\n",
        "        break\n",
        "    elif re.search(\"\\s\",p):\n",
        "        break\n",
        "    else:\n",
        "        print(\"Valid Password\")\n",
        "        x=False\n",
        "        break\n",
        "\n",
        "if x:\n",
        "    print(\"Not a Valid Password\")"
      ],
      "metadata": {
        "colab": {
          "base_uri": "https://localhost:8080/"
        },
        "id": "MbcTS7SuJ7eM",
        "outputId": "4c5a59b9-68ae-4155-c8de-6dd630d70e57"
      },
      "execution_count": null,
      "outputs": [
        {
          "output_type": "stream",
          "name": "stdout",
          "text": [
            "Input your password Wertu89#\n",
            "Valid Password\n"
          ]
        }
      ]
    },
    {
      "cell_type": "markdown",
      "source": [
        "\n",
        "\n",
        "\n",
        "Exercise 3\n",
        "\n",
        "Get input of the age of 3 people by user and determine oldest and youngest among them"
      ],
      "metadata": {
        "id": "Bsku4QlDI6F-"
      }
    },
    {
      "cell_type": "code",
      "source": [
        "age1=int(input('enter age1: '))\n",
        "age2=int(input('enter age2: '))\n",
        "age3=int(input('enter age3: '))\n",
        "if age1>age2 and age1>age3:\n",
        "    print('age1 is oldest')\n",
        "elif age2>age1 and age2>age3:\n",
        "    print('age2 is oldest')\n",
        "else:\n",
        "    print('age3 is oldest')\n",
        "if age1<age2 and age1<age3:\n",
        "    print('age1 is youngest')\n",
        "elif age2<age1 and age2<age3:\n",
        "    print('age2 is youngest')\n",
        "else:\n",
        "     print('age3 is youngest')\n"
      ],
      "metadata": {
        "colab": {
          "base_uri": "https://localhost:8080/"
        },
        "id": "FqlnOSIJKztd",
        "outputId": "5af63de4-a020-4bbc-9e0f-78ca0f71a268"
      },
      "execution_count": null,
      "outputs": [
        {
          "output_type": "stream",
          "name": "stdout",
          "text": [
            "enter age1: 21\n",
            "enter age2: 32\n",
            "enter age3: 54\n",
            "age3 is oldest\n",
            "age1 is youngest\n"
          ]
        }
      ]
    },
    {
      "cell_type": "markdown",
      "source": [
        "\n",
        "\n",
        "Exercise 4\n",
        "\n",
        "A student will not be allowed to sit in exam if his/her attendance is less than 75%.\n",
        "\n",
        "Take following input from user\n",
        "\n",
        "* Number of classes held\n",
        "* Number of classes attended.\n",
        "* And print percentage of class attended.\n",
        "\n",
        " Is student is allowed to sit in exam or not?"
      ],
      "metadata": {
        "id": "FknvcQ-8LZcd"
      }
    },
    {
      "cell_type": "code",
      "source": [
        "a=int(input(\"Number of classes held:\"))\n",
        "\n",
        "b=int(input(\"Number of classes attended:\"))\n",
        "\n",
        "percentage=b/a*100\n",
        "\n",
        "if percentage>=75:\n",
        "\n",
        "        print(\"The student is allowed to sit in the exam\")\n",
        "\n",
        "else:\n",
        "\n",
        "        print(\"The student is not allowed to sit in the exam\")"
      ],
      "metadata": {
        "colab": {
          "base_uri": "https://localhost:8080/"
        },
        "id": "KlKsyCgTL3lR",
        "outputId": "1546f5ff-731f-4e41-fbfe-59f82cc1066e"
      },
      "execution_count": null,
      "outputs": [
        {
          "output_type": "stream",
          "name": "stdout",
          "text": [
            "Number of classes held:36\n",
            "Number of classes attended:30\n",
            "The student is allowed to sit in the exam\n"
          ]
        }
      ]
    },
    {
      "cell_type": "markdown",
      "source": [
        "\n",
        "\n",
        "Exercise 5\n",
        "\n",
        "Get an integer N from the user and perform the following actions:\n",
        "\n",
        "* if N is odd, print \"weird\"\n",
        "* if N is even and in the inclusive range of 2 to 5, print \"Not Weird\"\n",
        "* if N is even and in the inclusive range of 6 to 20, print \"Weird\"\n",
        "* if N is even and greater than 20, print \"Not Weird\"\n"
      ],
      "metadata": {
        "id": "3JdzdsiWNRX5"
      }
    },
    {
      "cell_type": "code",
      "source": [
        "import sys\n",
        "\n",
        "\n",
        "N = int(input().strip())\n",
        "\n",
        "if N % 2 != 0:\n",
        "    print (\"Weird\")\n",
        "else:\n",
        "    if N >= 2 and N <= 5:\n",
        "        print (\"Not Weird\")\n",
        "    elif N >= 6 and N <= 20:\n",
        "        print (\"Weird\")\n",
        "    elif N > 20:\n",
        "        print (\"Not Weird\")"
      ],
      "metadata": {
        "colab": {
          "base_uri": "https://localhost:8080/"
        },
        "id": "jPTMJkZoOj7E",
        "outputId": "a9586d00-a4aa-4db5-9e50-071c22c32081"
      },
      "execution_count": null,
      "outputs": [
        {
          "output_type": "stream",
          "name": "stdout",
          "text": [
            "18\n",
            "Weird\n"
          ]
        }
      ]
    }
  ]
}