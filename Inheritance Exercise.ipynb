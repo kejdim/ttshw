{
 "cells": [
  {
   "cell_type": "markdown",
   "id": "8da57372",
   "metadata": {},
   "source": [
    "Complete the following exercise and submit the github link to your jupyter notebook file:\n",
    "\n",
    "\n",
    "\n",
    "You are given two classes, Person and Student, where Person is the base class and Student is the derived class. Completed code for Person and a declaration for Student are provided for you in the editor. Observe that Student inherits all the properties of Person.\n",
    "\n",
    "Complete the Student class by writing the following:\n",
    "\n",
    "A Student class constructor, which has 4 parameters:\n",
    "\n",
    "A string, firstName\n",
    "A string, lastName\n",
    "An integer, id An integer array (or vector) of test scores, scores\n",
    "A char calculate() method that calculates a Student object's average and returns the grade character representative of their calculated average:\n",
    "\n",
    "A | 90-100\n",
    "B | 80-89\n",
    "C | 70-79\n",
    "D | 60-69\n",
    "F | <60"
   ]
  },
  {
   "cell_type": "markdown",
   "id": "12a5be27",
   "metadata": {},
   "source": []
  },
  {
   "cell_type": "markdown",
   "id": "3ba8d76b",
   "metadata": {},
   "source": []
  },
  {
   "cell_type": "code",
   "execution_count": 2,
   "id": "636a26c4",
   "metadata": {},
   "outputs": [
    {
     "name": "stdout",
     "output_type": "stream",
     "text": [
      "Julius Caesar 0000001\n",
      "2\n",
      "100 80\n",
      "Name: Caesar, Julius\n",
      "ID: 0000001\n",
      "Grade: A\n"
     ]
    }
   ],
   "source": [
    "class Person:\n",
    "    def __init__(self, firstName, lastName, idNumber):\n",
    "        self.firstName = firstName\n",
    "        self.lastName = lastName\n",
    "        self.idNumber = idNumber\n",
    "\n",
    "    def printPerson(self):\n",
    "        print('Name:', self.lastName + \",\", self.firstName )\n",
    "        print('ID:', self.idNumber)\n",
    "\n",
    "\n",
    "class Student(Person):\n",
    "    def __init__(self, firstName, lastName, idNumber, scores):\n",
    "        self.firstName = firstName\n",
    "        self.lastName = lastName\n",
    "        self.idNumber = idNumber\n",
    "        self.scores = scores\n",
    "\n",
    "    def calculate(self):\n",
    "        self.ave = sum(self.scores)/numScores\n",
    "        if self.ave >=90 and self.ave <= 100:\n",
    "            return 'A'\n",
    "        elif self.ave >= 80 and self.ave < 90:\n",
    "            return 'B'\n",
    "        elif self.ave >= 70 and self.ave < 80:\n",
    "            return 'C'\n",
    "        elif self.ave >= 60 and self.ave < 70:\n",
    "            return 'D'\n",
    "        elif self.ave < 60:\n",
    "            return 'F'\n",
    "\n",
    "line = input().split()\n",
    "firstName = line[0]\n",
    "lastName = line[1]\n",
    "idNumber= line[2]\n",
    "numScores = int(input())\n",
    "scores = list( map(int, input().split()) )\n",
    "s = Student(firstName, lastName, idNumber, scores)\n",
    "s.printPerson()\n",
    "print(\"Grade:\", s.calculate())\n"
   ]
  }
 ],
 "metadata": {
  "kernelspec": {
   "display_name": "Python 3 (ipykernel)",
   "language": "python",
   "name": "python3"
  },
  "language_info": {
   "codemirror_mode": {
    "name": "ipython",
    "version": 3
   },
   "file_extension": ".py",
   "mimetype": "text/x-python",
   "name": "python",
   "nbconvert_exporter": "python",
   "pygments_lexer": "ipython3",
   "version": "3.10.6"
  }
 },
 "nbformat": 4,
 "nbformat_minor": 5
}
